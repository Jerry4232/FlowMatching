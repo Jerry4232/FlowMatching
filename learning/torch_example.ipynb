{
 "cells": [
  {
   "cell_type": "markdown",
   "id": "7ec9b5b0",
   "metadata": {},
   "source": [
    "### torch backward gradient"
   ]
  },
  {
   "cell_type": "markdown",
   "id": "b1a9e2d5",
   "metadata": {},
   "source": [
    "Demo of how tensor record previous operations"
   ]
  },
  {
   "cell_type": "code",
   "execution_count": 5,
   "id": "9c1e60f9",
   "metadata": {},
   "outputs": [],
   "source": [
    "import torch\n",
    "\n",
    "x = torch.tensor([2.0], requires_grad=True)\n",
    "y = x ** 2 + 3 * x "
   ]
  },
  {
   "cell_type": "markdown",
   "id": "f115e38e",
   "metadata": {},
   "source": [
    "when we talk about the computation graph (or \"tree\"), it’s not just about computing the value of y. It’s about recording how y was computed — a kind of lazy evaluation graph — so that PyTorch can later compute derivatives using the chain rule."
   ]
  },
  {
   "cell_type": "code",
   "execution_count": 6,
   "id": "5a12d84f",
   "metadata": {},
   "outputs": [
    {
     "name": "stdout",
     "output_type": "stream",
     "text": [
      "<class 'torch.Tensor'>\n",
      "<AddBackward0 object at 0x000001A704930790>\n",
      "tensor([7.])\n"
     ]
    }
   ],
   "source": [
    "print(type(y))       # <class 'torch.Tensor'>\n",
    "print(y.grad_fn)     # Shows the function used to compute y\n",
    "\n",
    "y.backward()         # compute dy/dx\n",
    "print(x.grad)        # Should be 2x + 3 = 7.0"
   ]
  },
  {
   "cell_type": "markdown",
   "id": "e850f506",
   "metadata": {},
   "source": [
    "multiple tensor example, with partial derivatives"
   ]
  },
  {
   "cell_type": "code",
   "execution_count": 7,
   "id": "d3ce2677",
   "metadata": {},
   "outputs": [
    {
     "name": "stdout",
     "output_type": "stream",
     "text": [
      "tensor([2.])\n",
      "tensor([3.])\n"
     ]
    }
   ],
   "source": [
    "x1 = torch.tensor([1.0], requires_grad=True)\n",
    "x2 = torch.tensor([2.0], requires_grad=True)\n",
    "\n",
    "y = x1**2 + 3 * x2  # y depends on both x1 and x2\n",
    "y.backward()\n",
    "\n",
    "print(x1.grad)  # dy/dx1 = 2 * x1 = 2.0\n",
    "print(x2.grad)  # dy/dx2 = 3\n"
   ]
  }
 ],
 "metadata": {
  "kernelspec": {
   "display_name": "flowmatching_env",
   "language": "python",
   "name": "python3"
  },
  "language_info": {
   "codemirror_mode": {
    "name": "ipython",
    "version": 3
   },
   "file_extension": ".py",
   "mimetype": "text/x-python",
   "name": "python",
   "nbconvert_exporter": "python",
   "pygments_lexer": "ipython3",
   "version": "3.13.3"
  }
 },
 "nbformat": 4,
 "nbformat_minor": 5
}
